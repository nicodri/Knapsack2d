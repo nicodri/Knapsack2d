{
 "cells": [
  {
   "cell_type": "code",
   "execution_count": 1,
   "metadata": {
    "collapsed": false
   },
   "outputs": [],
   "source": [
    "import numpy as np\n",
    "import time\n",
    "\n",
    "\n",
    "from numpy.random import random\n",
    "from collections import Counter"
   ]
  },
  {
   "cell_type": "markdown",
   "metadata": {},
   "source": [
    "# Synthesis"
   ]
  },
  {
   "cell_type": "markdown",
   "metadata": {},
   "source": [
    "I present here a solution using a dynamic programming approach, ie breaking down the problem in smaller sub-problems from which I extract the solution to solve my initial problem. This notebook contains a detailed explanation of my thought process and experimentations. A functionnal version of the code is also in the 'src' folder, wrapped into a class. The required documentation is in the 'README.md' at the root of this repository.\n",
    "\n",
    "Here, the problem is a 2d version of the Knapsack problem:\n",
    "\n",
    ">Given a box with size (W, H) and a collection of N rectangles with sizes (w_i, h_i) and values v_i > 0, find an arrangement of non-overlapping rectangles that fits within the box and maximizes their total value. Rectangles may be used more than once. Rectangles may be rotated. N may be very large.\n",
    "\n",
    "The instructions say that the rectangles may be rotated. We build our optimized solution for rectangles that may be rotated of __90 degree__ only. Other rotations won't be optimal as we fill a bigger rectangle, there will be necessarily wasted space.\n",
    "\n",
    "The next cell contains the test we will use. It needs to be run."
   ]
  },
  {
   "cell_type": "code",
   "execution_count": 2,
   "metadata": {
    "collapsed": true
   },
   "outputs": [],
   "source": [
    "def timeit(f):\n",
    "\n",
    "    def timed(*args, **kw):\n",
    "\n",
    "        ts = time.time()\n",
    "        result = f(*args, **kw)\n",
    "        te = time.time()\n",
    "\n",
    "        print 'func:%r args:[%r, %r] took: %2.4f sec' % \\\n",
    "          (f.__name__, args, kw, te-ts)\n",
    "        return result\n",
    "\n",
    "    return timed\n",
    "\n",
    "@timeit\n",
    "def test_simple(function):\n",
    "    setup = (45, 48, [(4, 28, 4.0), (8, 10, 20.0)])\n",
    "    F, a = function(*setup)\n",
    "    assert(F[-1, -1] == 520)\n",
    "    assert(len(a[setup[0], setup[1]]) == 26)\n",
    "\n",
    "# Benchmark: large number of rectangles with many including better ones\n",
    "def including_sample(w0=1, h0=1, v0=5, Nx=10, Ny=10):\n",
    "    '''\n",
    "    Build Nx*Ny rectangles with w0< w <= w0 + N and h0< h <= h0 + N which contain the\n",
    "    initial rectanle (w0, h0) but with a lower value.\n",
    "    '''\n",
    "    rectangles = [(w0, h0, v0)]\n",
    "    for i in xrange(1, Nx+1):\n",
    "        for j in xrange(1, Ny+1):\n",
    "            v = v0*random()\n",
    "            r = (w0 + i, h0 + j, v)\n",
    "            rectangles.append(r)\n",
    "    return rectangles\n",
    "\n",
    "@timeit\n",
    "def test_including_sample(function):\n",
    "    # Define global setup\n",
    "    W = 45\n",
    "    H = 48\n",
    "    ref0 = (3, 4, 2.)\n",
    "    ref1 = (8, 10, 25.0)\n",
    "    ref2 = (7, 9, 14)\n",
    "    ref3 = (17, 14, 80)\n",
    "    rectangles = [ref1, ref2, ref3]\n",
    "    \n",
    "    # Generate worse rectangles\n",
    "    rectangles += including_sample(*ref0, Nx=40, Ny=40)\n",
    "    rectangles += including_sample(*ref1, Nx=35, Ny=35)\n",
    "    rectangles += including_sample(*ref2, Nx=35, Ny=35)\n",
    "    rectangles += including_sample(*ref3, Nx=25, Ny=30)\n",
    "    \n",
    "    # Run experiment\n",
    "    setup = (W, H, rectangles)\n",
    "    F, a = function(*setup)\n",
    "    assert(F[-1, -1] == 695.)\n",
    "    assert(len(a[setup[0], setup[1]]) == 17)\n",
    "\n",
    "@timeit\n",
    "def test_small_rectangles(function):\n",
    "    # Define global setup\n",
    "    W = 45\n",
    "    H = 48\n",
    "    ref0 = (1, 1, 0.1)\n",
    "    ref1 = (8, 10, 25.0)\n",
    "    ref2 = (7, 9, 14)\n",
    "    ref3 = (17, 14, 80)\n",
    "    rectangles = [ref1, ref2, ref3]\n",
    "\n",
    "    # Generate worse rectangles\n",
    "    rectangles += including_sample(*ref0, Nx=40, Ny=40)\n",
    "    rectangles += including_sample(*ref1, Nx=35, Ny=35)\n",
    "    rectangles += including_sample(*ref2, Nx=35, Ny=35)\n",
    "    rectangles += including_sample(*ref3, Nx=25, Ny=30)\n",
    "    \n",
    "    # Run experiment\n",
    "    setup = (W, H, rectangles)\n",
    "    F, a = function(*setup)\n",
    "    # Float comparison\n",
    "    assert(np.abs(F[-1, -1] - 694.4) < 10**(-8))\n",
    "    assert(len(a[setup[0], setup[1]]) == 106)\n",
    "    \n",
    "\n",
    "# Script to run test\n",
    "def test_main(function):\n",
    "    test_simple(function)\n",
    "    print('1')\n",
    "    test_including_sample(function)\n",
    "    print('2')\n",
    "    test_small_rectangles(function)\n",
    "    print('3')\n"
   ]
  },
  {
   "cell_type": "markdown",
   "metadata": {},
   "source": [
    "### Dynamic Solution"
   ]
  },
  {
   "cell_type": "markdown",
   "metadata": {},
   "source": [
    "The idea is to compute the optimal arrangement for all the rectangles (w,h) with 1<= w <= W and 1 <= h <= H, starting from the smallest and finish with the objective, ie (W, H). Let's store each of this sub-solution into a matrix F and a dictionnary arrangement:\n",
    "\n",
    "* __F[i, j]__ : stores the value of the optimal arrangement in the rectangle of size (i, j)\n",
    "* __arrangement[(i, j)]__: stores the list of rectangles contained in the optimal arrangement in the rectangle of size (i, j) in the following format : [(x1, y1, x2, y2, v)]\n",
    "\n",
    "Now we can decribe the different steps of the algorithm:\n",
    "\n",
    "* Initialization of F at zeros (and arrangement empty)\n",
    "* For each sub-rectangle, ie in our notation for each (i, j) with 1<= i <= W and 1 <= j <= H we set F[i,j] and arrangement[(i,j)] to the larger rectangle which fits in it, if one exists.\n",
    "* Construction of the optimal solution starting from the bottom. Iteration on (i,j) to build F[i,j] and arrangement[(i, j)] with previously computed values. Here is the pseudo code:\n",
    "\n",
    "\n",
    "    for i = 1, W\n",
    "        for j = 1, H\n",
    "            # along axis x\n",
    "            for k = 1, [i/2]\n",
    "                value_merged = F[k, j] + F[i-k,j]\n",
    "                if value_merged > F[i, j]\n",
    "                     F[i, j] = value_merged\n",
    "                     Updating arrangement[(i,j)] with the concatenation of the two arrangements (if not empty)         \n",
    "            # along axis y\n",
    "            for k = 1, [j/2]\n",
    "                value_merged = F[i, k] + F[i,j-k]\n",
    "                if value_merged > F[i, j]\n",
    "                     F[i, j] = value_merged\n",
    "                     Updating arrangement[(i,j)] with the concatenation of the two arrangements (if not empty)\n",
    "                     \n",
    "At the end of the execution, we can retrieve the solution for the tuple $(i, j) = (W, H)$ inside F and arrangement."
   ]
  },
  {
   "cell_type": "markdown",
   "metadata": {},
   "source": [
    "__Complexity__:\n",
    "\n",
    "\n",
    "* step 1 : in time $O (WH) $\n",
    "* step 2 : in time $ O( WH \\times N) $ (naive linear scan of each rectangle for each cell of F)\n",
    "* step 3: in time $ O (WH \\times (W + H))$ (each final subloop along the two axis induce a time complexity of the size of the axis on average)\n",
    "* Memory: $ O( WH \\times |R|)$ ( $O(WH)$ for F and the dictionnary arrangement stores in the worst case $O ( WH \\times \\alpha(W, H, N))$, with $\\alpha(W, H)$ the maximum number of rectangles we can fit inside the (W, H) rectangle.)\n",
    "\n",
    "NB: a brute force algorithm will build all the possible arrangements and keep the best one. First, it picks k rectangles among N to fill (W,H) (choice among $2^N$ possibilities, some may be equivalent to other for the rectangle too big) and tries all of the combinaisons in the target space. This is at least $O(WH \\times N_rec)$ with N_rec the number of rectangle that can fit inside the target area (this number may be larger than N and depends on W, H, N. In total we have a complexity already higer than $O(WHN \\times 2^N)$\n",
    "\n",
    "We provide a functionnal and detailed version of the algorithm: (the final version in 'src' is less detailed and less redundant), I provide here the raw one to make the full algorithm clearer:"
   ]
  },
  {
   "cell_type": "code",
   "execution_count": 3,
   "metadata": {
    "collapsed": true
   },
   "outputs": [],
   "source": [
    "def dynamic_solution(W, H, rectangles):\n",
    "    # Store the total value\n",
    "    F = np.zeros((W+1, H+1))\n",
    "    # Stores the arrangement for each configuration (i,j)\n",
    "    # key: (i,j) value: [(x1, y1, x2, y2, v)]\n",
    "    arrangement = {}\n",
    "    \n",
    "    # Best configuration with 1 rectangle\n",
    "    for r in rectangles:\n",
    "        w, h, v = r\n",
    "        for i in xrange(1, W+1):\n",
    "            for j in xrange(1, H+1):\n",
    "                # Rotations of 90° possible\n",
    "                if ((w <= i and h <= j) or (h <= i and w <= j)) and (v > F[i, j]):\n",
    "                    F[i, j] = v\n",
    "                    if not (w <= i and h <= j):\n",
    "                        arrangement[(i,j)] = [(0, 0, h, w, v)]\n",
    "                    else: # by default if two positions possible\n",
    "                        arrangement[(i,j)] = [(0, 0, w, h, v)]\n",
    "    # Iteration\n",
    "    for i in xrange(1,W+1):\n",
    "        for j in xrange(1,H+1):\n",
    "            # Combining 2 sub configurations\n",
    "            # Along x\n",
    "            for k_x in xrange(1,i/2+1):\n",
    "                v_local = F[k_x, j] + F[i - k_x, j]\n",
    "                if v_local > F[i, j]:\n",
    "                    F[i,j] = v_local\n",
    "                    # Updating arrangement\n",
    "                    if (k_x, j) not in arrangement:\n",
    "                        arrangement[(i, j)] = arrangement[(i - k_x, j)]\n",
    "                    elif (i - k_x, j) not in arrangement:\n",
    "                        arrangement[(i, j)] = arrangement[(k_x, j)]\n",
    "                    else:\n",
    "                        # concatenating arrangement with index shift along x for the second one\n",
    "                        a_shifted = [(e[0] + i - k_x, e[1], e[2] + i - k_x, e[3], e[4]) for e in arrangement[(k_x, j)]]\n",
    "                        arrangement[(i, j)] = arrangement[(i - k_x, j)] + a_shifted\n",
    "                    # Updating arrangement\n",
    "                    \n",
    "                \n",
    "            # Along y\n",
    "            for k_y in xrange(1,j/2+1):\n",
    "                merged_value = F[i, k_y] + F[i, j - k_y]\n",
    "                if merged_value > F[i, j]:\n",
    "                    F[i,j] = merged_value\n",
    "                    # Updating arrangement\n",
    "                    if (i, k_y) not in arrangement:\n",
    "                        arrangement[(i, j)] = arrangement[(i, j - k_y)]\n",
    "                    elif (i, j - k_y) not in arrangement:\n",
    "                        arrangement[(i, j)] = arrangement[(i, k_y)]\n",
    "                    else:\n",
    "                        # concatenating arrangement with index shift along y for the second one\n",
    "                        a_shifted = [(e[0], e[1] + j - k_y, e[2], e[3] + j - k_y, e[4]) for e in arrangement[(i, k_y)]]\n",
    "                        arrangement[(i, j)] = arrangement[(i, j - k_y)] + a_shifted\n",
    "\n",
    "    return F, arrangement"
   ]
  },
  {
   "cell_type": "code",
   "execution_count": 4,
   "metadata": {
    "collapsed": false
   },
   "outputs": [
    {
     "name": "stdout",
     "output_type": "stream",
     "text": [
      "func:'test_simple' args:[(<function dynamic_solution at 0x1055d3500>,), {}] took: 0.0490 sec\n",
      "1\n",
      "func:'test_including_sample' args:[(<function dynamic_solution at 0x1055d3500>,), {}] took: 1.5405 sec\n",
      "2\n",
      "func:'test_small_rectangles' args:[(<function dynamic_solution at 0x1055d3500>,), {}] took: 1.6396 sec\n",
      "3\n",
      "CPU times: user 3.19 s, sys: 21.5 ms, total: 3.22 s\n",
      "Wall time: 3.23 s\n"
     ]
    }
   ],
   "source": [
    "%%time\n",
    "test_main(dynamic_solution)"
   ]
  },
  {
   "cell_type": "markdown",
   "metadata": {},
   "source": [
    "### Improvements"
   ]
  },
  {
   "cell_type": "markdown",
   "metadata": {},
   "source": [
    "### Arrangement storage"
   ]
  },
  {
   "cell_type": "markdown",
   "metadata": {},
   "source": [
    "The idea is here to decrease the memory storage. The arrangement dictionnary needs a lot of space if we can fit a high number of rectangles in the target area. One idea is to change the arrangement format and just care about the number of each kind of rectangles in it. Here the memory complexity becomes bounded, ie $O(WH \\times N)$ for the new dictionnary called __configuration__ which contains Python Counters."
   ]
  },
  {
   "cell_type": "code",
   "execution_count": 5,
   "metadata": {
    "collapsed": true
   },
   "outputs": [],
   "source": [
    "def dynamic_solution_low_memory(W, H, rectangles):\n",
    "    # Store the total value\n",
    "    F = np.zeros((W+1, H+1))\n",
    "    # Store the rectangles present in each configuration\n",
    "    # using a mapping rectangle2index\n",
    "    rectangles2indexes = {r:i for i, r in enumerate(rectangles)}\n",
    "    indexes2rectangles = {i:r for i, r in enumerate(rectangles)}\n",
    "    configuration = {}\n",
    "    \n",
    "    # Best configuration with 1 rectangle\n",
    "    for r in rectangles:\n",
    "        w, h, v = r\n",
    "        for i in xrange(1, W+1):\n",
    "            for j in xrange(1, H+1):\n",
    "                # Rotations of 90° possible\n",
    "                if ((w <= i and h <= j) or (h <= i and w <= j)) and (v > F[i, j]):\n",
    "                    F[i, j] = v\n",
    "                    configuration[(i,j)] = Counter([rectangles2indexes[r]])\n",
    "    # Iteration\n",
    "    for i in xrange(1,W+1):\n",
    "        for j in xrange(1,H+1):\n",
    "            # Combining 2 sub configurations\n",
    "            # Along x\n",
    "            for k_x in xrange(1,i/2+1):\n",
    "                v_local = F[k_x, j] + F[i - k_x, j]\n",
    "                if v_local > F[i, j]:\n",
    "                    F[i,j] = v_local\n",
    "                    # Updating configuration\n",
    "                    if (k_x, j) not in configuration:\n",
    "                        configuration[(i, j)] = configuration[(i - k_x, j)]\n",
    "                    elif (i - k_x, j) not in configuration:\n",
    "                        configuration[(i, j)] = configuration[(k_x, j)]\n",
    "                    else:\n",
    "                        c = Counter(configuration[(k_x, j)])\n",
    "                        c.update(configuration[(i - k_x, j)])\n",
    "                        configuration[(i, j)] = c\n",
    "                \n",
    "            # Along y\n",
    "            for k_y in xrange(1,j/2+1):\n",
    "                v_local = F[i, k_y] + F[i, j - k_y]\n",
    "                if v_local > F[i, j]:\n",
    "                    F[i,j] = v_local\n",
    "                    # Updating configuration\n",
    "                    if (i, k_y) not in configuration:\n",
    "                        configuration[(i, j)] = configuration[(i, j - k_y)]\n",
    "                    elif (i, j - k_y) not in configuration:\n",
    "                        configuration[(i, j)] = configuration[(i, k_y)]\n",
    "                    else:\n",
    "                        c = Counter(configuration[(i, k_y)])\n",
    "                        c.update(configuration[(i, j - k_y)])\n",
    "                        configuration[(i, j)] = c\n",
    "\n",
    "    return F, configuration, indexes2rectangles"
   ]
  },
  {
   "cell_type": "code",
   "execution_count": 6,
   "metadata": {
    "collapsed": false
   },
   "outputs": [
    {
     "name": "stdout",
     "output_type": "stream",
     "text": [
      "CPU times: user 68.8 ms, sys: 5.21 ms, total: 74.1 ms\n",
      "Wall time: 71.2 ms\n"
     ]
    }
   ],
   "source": [
    "%%time\n",
    "# Testing\n",
    "\n",
    "# Define global setup\n",
    "W = 45\n",
    "H = 48\n",
    "ref1 = (8, 10, 25.0)\n",
    "ref2 = (7, 9, 14)\n",
    "ref3 = (17, 14, 80)\n",
    "rectangles = [ref1, ref2, ref3]\n",
    "\n",
    "setup = (W, H, rectangles)\n",
    "\n",
    "F, c, m = dynamic_solution_low_memory(*setup)"
   ]
  },
  {
   "cell_type": "code",
   "execution_count": 7,
   "metadata": {
    "collapsed": false
   },
   "outputs": [
    {
     "name": "stdout",
     "output_type": "stream",
     "text": [
      "688.0\n",
      "Counter({2: 7, 0: 4, 1: 2})\n",
      "{0: (8, 10, 25.0), 1: (7, 9, 14), 2: (17, 14, 80)}\n"
     ]
    }
   ],
   "source": [
    "# Printing\n",
    "print F[W, H]\n",
    "print c[(W, H)]\n",
    "print m"
   ]
  },
  {
   "cell_type": "markdown",
   "metadata": {},
   "source": [
    "### Time complexity: Initialization step"
   ]
  },
  {
   "cell_type": "markdown",
   "metadata": {},
   "source": [
    "We can improve the initialization step where we fill F and arrangement with the raw value of the rectangle with the largest value that fits in it, if exists. We could sort the rectangles by their values and consider them in decreasing order of the values. This will give a new time complexity of $O(N log(N))$ for this loop instead of $O(WH \\times N)$.\n",
    "\n",
    "The idea is to fill from the upper right corner (W, H) to the lower left one F and arrangement. First, we consider the rectangle with the largest value and fill all the cells (i,j) if the subrectangle (i,j) contains this rectangle. Then we consider the next top value rectangle and fill new cells if it's smaller in at least one dimension and so on. \n",
    "\n",
    "The tricky part is the update of F and arrangement for a new top value rectangle. We have three different cases summarized by the figures. We go here from the rectangle with the highest value (in blue) to the next one (in red). The ligt rectangle represent the real one and the dark one the cells of F that need to be set to the value of the corresponding rectangle. For each case we have different number of subareas for the area with red cells to set (resp. 2, 3 and 4). These are exactly those leading to the updates statements in the code\n",
    "\n",
    "<img width=400 height=200 src=\"cas1.png\"/> \n",
    "\n",
    "<img width=400 height=200 src=\"cas2.png\"/> \n",
    "\n",
    "<img width=400 height=200 src=\"cas3.png\"/> \n",
    "\n",
    "\n",
    "The new code is much faster than the previous one on the unit-tests (especially one with a high number of rectangles):\n"
   ]
  },
  {
   "cell_type": "code",
   "execution_count": 8,
   "metadata": {
    "collapsed": true
   },
   "outputs": [],
   "source": [
    "def update_in_range(mydict, updates):\n",
    "    '''\n",
    "    Update in place my dict in the range defined in udpates.\n",
    "    args:\n",
    "        updates: dictionnary (imin, imax, jmin, jmax) : value\n",
    "    '''\n",
    "    for ranges, value in updates.iteritems():\n",
    "        for i in xrange(ranges[0], ranges[1]):\n",
    "            for j in xrange(ranges[2], ranges[3]):\n",
    "                mydict[(i, j)] = value"
   ]
  },
  {
   "cell_type": "code",
   "execution_count": 9,
   "metadata": {
    "collapsed": true
   },
   "outputs": [],
   "source": [
    "def dynamic_solution_optim_init(W, H, rectangles):\n",
    "    N = len(rectangles)\n",
    "    # Store the total value\n",
    "    F = np.zeros((W+1, H+1))\n",
    "    # Stores the arrangement for each configuratin (i,j)\n",
    "    # key: (i,j) value: [(x1, y1, x2, y2, v)]\n",
    "    arrangement = {}\n",
    "    \n",
    "    # Best configuration with 1 rectangle\n",
    "    # Sorting the rectangle list by decreasing values\n",
    "    # Complexity is O(N log(N))\n",
    "    rectangles.sort(reverse=True, key= lambda x:x[2])\n",
    "    ind_max = max(W, H) + 1\n",
    "    ind_min = min(W, H) + 1\n",
    "    curr_rect = 0\n",
    "    while ind_max > 0 and ind_min > 0 and curr_rect < N:\n",
    "        r = rectangles[curr_rect]\n",
    "        w, h, v = r\n",
    "        min_d = min(w, h)\n",
    "        max_d = max(w, h)\n",
    "        if max_d < ind_max or min_d < ind_min:\n",
    "            # Case 1: 2 portions for the enxt rectangle\n",
    "            if min_d >= ind_min:\n",
    "                # Setting F\n",
    "                F[min_d:max_d, max_d:ind_max] = v\n",
    "                F[max_d:ind_max, min_d:ind_max] = v\n",
    "                # Setting arragnement\n",
    "                updates = {(min_d, max_d, max_d, ind_max): [(0, 0, min_d, max_d, v)],\n",
    "                          (max_d, ind_max, min_d, ind_max): [(0, 0, max_d, min_d, v)]}\n",
    "                update_in_range(arrangement, updates)\n",
    "            # Case 2: 3 portions for the enxt rectangle\n",
    "            elif max_d < ind_min:\n",
    "                # Setting F\n",
    "                F[min_d:ind_min, max_d:H+1] = v\n",
    "                F[ind_min:ind_max, ind_min:ind_max] = v\n",
    "                F[max_d:W+1, min_d:ind_min] = v\n",
    "                # Setting arrangement\n",
    "                updates = {(min_d, ind_min, max_d, H+1): [(0, 0, min_d, max_d, v)],\n",
    "                           (ind_min, ind_max, ind_min, ind_max): [(0, 0, min_d, max_d, v)],\n",
    "                          (max_d, W+1, min_d, ind_min): [(0, 0, max_d, min_d, v)]}\n",
    "                update_in_range(arrangement, updates)\n",
    "            # Case 3: 4 portions for the enxt rectangle\n",
    "            else:\n",
    "                # Setting F\n",
    "                F[min_d:ind_min, max_d:H+1] = v\n",
    "                F[max_d:W+1, min_d:ind_min] = v\n",
    "                F[min_d:max_d, max_d:ind_max] = v\n",
    "                F[max_d:ind_max, min_d:ind_max] = v\n",
    "    \n",
    "                # Setting arrangement\n",
    "                updates = {(min_d, ind_min, max_d, H+1): [(0, 0, min_d, max_d, v)],\n",
    "                           (min_d, max_d, max_d, ind_max): [(0, 0, min_d, max_d, v)],\n",
    "                           (max_d, ind_max, min_d, ind_max): [(0, 0, max_d, min_d, v)],\n",
    "                           (max_d, W+1, min_d, ind_min): [(0, 0, max_d, min_d, v)]}\n",
    "                update_in_range(arrangement, updates)\n",
    "\n",
    "            ind_min = min_d\n",
    "            ind_max = max_d\n",
    "        curr_rect += 1\n",
    "    \n",
    "    # Iteration\n",
    "    for i in xrange(1,W+1):\n",
    "        for j in xrange(1,H+1):\n",
    "            # Combining 2 sub configurations\n",
    "            # Along x\n",
    "            for k_x in xrange(1,i/2+1):\n",
    "                v_local = F[k_x, j] + F[i - k_x, j]\n",
    "                if v_local > F[i, j]:\n",
    "                    F[i,j] = v_local\n",
    "                    # Updating arrangement\n",
    "                    if (k_x, j) not in arrangement:\n",
    "                        arrangement[(i, j)] = arrangement[(i - k_x, j)]\n",
    "                    elif (i - k_x, j) not in arrangement:\n",
    "                        arrangement[(i, j)] = arrangement[(k_x, j)]\n",
    "                    else:\n",
    "                        # concatenating arrangement with index shift along x for the second one\n",
    "                        a_shifted = [(e[0] + i - k_x, e[1], e[2] + i - k_x, e[3], e[4]) for e in arrangement[(k_x, j)]]\n",
    "                        arrangement[(i, j)] = arrangement[(i - k_x, j)] + a_shifted\n",
    "                    # Updating arrangement\n",
    "                    \n",
    "                \n",
    "            # Along y\n",
    "            for k_y in xrange(1,j/2+1):\n",
    "                merged_value = F[i, k_y] + F[i, j - k_y]\n",
    "                if merged_value > F[i, j]:\n",
    "                    F[i,j] = merged_value\n",
    "                    # Updating arrangement\n",
    "                    if (i, k_y) not in arrangement:\n",
    "                        arrangement[(i, j)] = arrangement[(i, j - k_y)]\n",
    "                    elif (i, j - k_y) not in arrangement:\n",
    "                        arrangement[(i, j)] = arrangement[(i, k_y)]\n",
    "                    else:\n",
    "                        # concatenating arrangement with index shift along y for the second one\n",
    "                        a_shifted = [(e[0], e[1] + j - k_y, e[2], e[3] + j - k_y, e[4]) for e in arrangement[(i, k_y)]]\n",
    "                        arrangement[(i, j)] = arrangement[(i, j - k_y)] + a_shifted\n",
    "\n",
    "    return F, arrangement"
   ]
  },
  {
   "cell_type": "code",
   "execution_count": 10,
   "metadata": {
    "collapsed": false
   },
   "outputs": [
    {
     "name": "stdout",
     "output_type": "stream",
     "text": [
      "func:'test_simple' args:[(<function dynamic_solution_optim_init at 0x1055be938>,), {}] took: 0.0507 sec\n",
      "1\n",
      "func:'test_including_sample' args:[(<function dynamic_solution_optim_init at 0x1055be938>,), {}] took: 0.0560 sec\n",
      "2\n",
      "func:'test_small_rectangles' args:[(<function dynamic_solution_optim_init at 0x1055be938>,), {}] took: 0.1040 sec\n",
      "3\n",
      "CPU times: user 201 ms, sys: 10.8 ms, total: 212 ms\n",
      "Wall time: 212 ms\n"
     ]
    }
   ],
   "source": [
    "%%time\n",
    "test_main(dynamic_solution_optim_init)"
   ]
  },
  {
   "cell_type": "markdown",
   "metadata": {},
   "source": [
    "The same unittests are executed in __213 ms__ compared to __3.28s__ for the previous version"
   ]
  },
  {
   "cell_type": "markdown",
   "metadata": {},
   "source": [
    "### Symmetrie"
   ]
  },
  {
   "cell_type": "markdown",
   "metadata": {},
   "source": [
    "As we can rotate from 90 degree each rectangle (ie flip i and j) I have the feeling that this problem has a lot of symmetrie. As a result, I tried to optimize the main loop of the step 3 of the algorithm. For example we could store F as a \"triangular\" matrix (actually F is not square but we could have a triangular version for the submatrix F(min(W,H), min(W,H)). This will divide by 2 the iterations. This is not as easy as expected as the updates along the axis y and x in the inner loop may use cells from both side, so we have to include many if statements to be sure to stay in the right triangular part. \n",
    "\n",
    "The following figure illustrates this:\n",
    "\n",
    "<img width=400 height=200 src=\"sym_along_x.png\"/> \n",
    "\n",
    "In that figure, the point (k,j) and (i-k, j) do not belong to the same triangular matrice. We could flip the first one with (j,k) which belongs to the same triangular matrice but we need to add many if statements dor these flips.\n",
    "\n",
    "\n",
    "This optimization is still pending as its positive impact is not obvious. It may make the codes way more complicated for only a small gain."
   ]
  },
  {
   "cell_type": "markdown",
   "metadata": {},
   "source": [
    "# Future Work"
   ]
  },
  {
   "cell_type": "markdown",
   "metadata": {},
   "source": [
    "The deliverable is a working solution of this 2d knapsack problem. I successfully optimized the initialization of the algorithm decreasing by a factor 10 the running time. I wrapped in in a class with unit test and some useful function to produce an output but also to draw the built arrangement (very useful to debugg).\n",
    "\n",
    "However, there is still room for improvement:\n",
    "\n",
    "As suggested by the problem statement, we could extend this algorithm for non-float rectangle dimension. The main issue is here that the set of different stages in the step 3 of the algorithm (one stage is combining the solution of two subproblems to solve a bigger one) is now much larger. This is due to the concatenation of rectangles which will form only on marginal case a rectangle with integer dimension. The questions raised here are: How to process these new multiple stages? How to increase the dimension of F as the integer one may not be relevant anymore?\n",
    "\n",
    "We could also improve the memory storage. For example, the arrangement dictionary actually contains the information of the matrix F (we just need to sum the values of each rectangle for one arrangement to get the corresponding F value). Both are kept for computation time optimization, but it's the memory is an issue we can remove it. Also, we could look for a reconstruction algorithm given the F matrix. This is a classical approach in dynamic programming: given the set of subproblems soved, we can construct the path leading to the global solution. We won't need to store the arrangement dictionnary if this is possible (or maybe a lower version).\n",
    "\n",
    "Lastly, we could improve the initialization step while filtering out some rectangles in the rectangle list of we know they are worst than another one (ie smaller value for both dimensions bigger). "
   ]
  }
 ],
 "metadata": {
  "kernelspec": {
   "display_name": "Python 2",
   "language": "python",
   "name": "python2"
  },
  "language_info": {
   "codemirror_mode": {
    "name": "ipython",
    "version": 2
   },
   "file_extension": ".py",
   "mimetype": "text/x-python",
   "name": "python",
   "nbconvert_exporter": "python",
   "pygments_lexer": "ipython2",
   "version": "2.7.11"
  }
 },
 "nbformat": 4,
 "nbformat_minor": 0
}
